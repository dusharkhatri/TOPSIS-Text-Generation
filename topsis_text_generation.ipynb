{
 "cells": [
  {
   "cell_type": "code",
   "execution_count": 3,
   "metadata": {},
   "outputs": [],
   "source": [
    "import numpy as np\n",
    "import pandas as pd"
   ]
  },
  {
   "cell_type": "code",
   "execution_count": 4,
   "metadata": {},
   "outputs": [],
   "source": [
    "data = {\n",
    "    \"Model\": [\"GPT-3.5\", \"T5-Large\", \"BERT Fine-Tuned\"],\n",
    "    \"Perplexity\": [15, 18, 20],  # Lower is better\n",
    "    \"BLEU\": [0.92, 0.89, 0.87],  # Higher is better\n",
    "    \"ROUGE\": [0.85, 0.81, 0.79],  # Higher is better\n",
    "    \"Execution Time\": [3.2, 4.5, 5.1],  # Lower is better\n",
    "    \"Memory Usage\": [1024, 768, 896]  # Lower is better\n",
    "}\n",
    "\n",
    "\n",
    "df = pd.DataFrame(data)"
   ]
  },
  {
   "cell_type": "code",
   "execution_count": 5,
   "metadata": {},
   "outputs": [],
   "source": [
    "criteria = [\"Perplexity\", \"BLEU\", \"ROUGE\", \"Execution Time\", \"Memory Usage\"]\n",
    "benefit_criteria = [\"BLEU\", \"ROUGE\"]  # Higher is better\n",
    "cost_criteria = [\"Perplexity\", \"Execution Time\", \"Memory Usage\"]  # Lower is better"
   ]
  },
  {
   "cell_type": "code",
   "execution_count": 6,
   "metadata": {},
   "outputs": [],
   "source": [
    "normalized_data = df.copy()\n",
    "for criterion in criteria:\n",
    "    if criterion in benefit_criteria:\n",
    "        normalized_data[criterion] = df[criterion] / np.sqrt(np.sum(df[criterion]**2))\n",
    "    elif criterion in cost_criteria:\n",
    "        normalized_data[criterion] = (1 / df[criterion]) / np.sqrt(np.sum((1 / df[criterion])**2))"
   ]
  },
  {
   "cell_type": "code",
   "execution_count": 7,
   "metadata": {},
   "outputs": [],
   "source": [
    "weights = {\n",
    "    \"Perplexity\": 0.25,\n",
    "    \"BLEU\": 0.25,\n",
    "    \"ROUGE\": 0.25,\n",
    "    \"Execution Time\": 0.15,\n",
    "    \"Memory Usage\": 0.10\n",
    "}\n",
    "\n",
    "def weighted_normalized(df, weights):\n",
    "    for col in weights:\n",
    "        df[col] = df[col] * weights[col]\n",
    "    return df\n",
    "\n",
    "weighted_data = weighted_normalized(normalized_data.copy(), weights)"
   ]
  },
  {
   "cell_type": "code",
   "execution_count": 8,
   "metadata": {},
   "outputs": [],
   "source": [
    "ideal_solution = {}\n",
    "negative_ideal_solution = {}\n",
    "for criterion in criteria:\n",
    "    ideal_solution[criterion] = weighted_data[criterion].max() if criterion in benefit_criteria else weighted_data[criterion].min()\n",
    "    negative_ideal_solution[criterion] = weighted_data[criterion].min() if criterion in benefit_criteria else weighted_data[criterion].max()"
   ]
  },
  {
   "cell_type": "code",
   "execution_count": 9,
   "metadata": {},
   "outputs": [],
   "source": [
    "def calculate_distance(df, solution):\n",
    "    distance = []\n",
    "    for _, row in df.iterrows():\n",
    "        dist = np.sqrt(np.sum([(row[criterion] - solution[criterion])**2 for criterion in criteria]))\n",
    "        distance.append(dist)\n",
    "    return np.array(distance)\n",
    "\n",
    "weighted_data[\"Positive Distance\"] = calculate_distance(weighted_data, ideal_solution)\n",
    "weighted_data[\"Negative Distance\"] = calculate_distance(weighted_data, negative_ideal_solution)"
   ]
  },
  {
   "cell_type": "code",
   "execution_count": 10,
   "metadata": {},
   "outputs": [],
   "source": [
    "weighted_data[\"TOPSIS Score\"] = weighted_data[\"Negative Distance\"] / (\n",
    "    weighted_data[\"Positive Distance\"] + weighted_data[\"Negative Distance\"]\n",
    ")"
   ]
  },
  {
   "cell_type": "code",
   "execution_count": 11,
   "metadata": {},
   "outputs": [],
   "source": [
    "weighted_data[\"Rank\"] = weighted_data[\"TOPSIS Score\"].rank(ascending=False)\n",
    "results = weighted_data[[\"Model\", \"TOPSIS Score\", \"Rank\"]]\n",
    "results.to_csv(\"topsis_results.csv\", index=False)"
   ]
  }
 ],
 "metadata": {
  "kernelspec": {
   "display_name": "Python 3",
   "language": "python",
   "name": "python3"
  },
  "language_info": {
   "codemirror_mode": {
    "name": "ipython",
    "version": 3
   },
   "file_extension": ".py",
   "mimetype": "text/x-python",
   "name": "python",
   "nbconvert_exporter": "python",
   "pygments_lexer": "ipython3",
   "version": "3.12.4"
  }
 },
 "nbformat": 4,
 "nbformat_minor": 2
}
